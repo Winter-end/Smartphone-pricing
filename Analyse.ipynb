{
 "cells": [
  {
   "cell_type": "markdown",
   "metadata": {},
   "source": [
    "# Analiza zbioru danych dotyczących smartfonów"
   ]
  },
  {
   "cell_type": "markdown",
   "metadata": {},
   "source": [
    "Projekt ten ma na celu przeprowadzenie analizy eksploracyjnej oraz wykonanie regresji liniowej na zbiorze danych dotyczących smartfonów.\n",
    "\n",
    "Link do zbioru: https://www.kaggle.com/datasets/swahajraza/a-dataset-of-smartphone-specifications-and-prices"
   ]
  },
  {
   "cell_type": "markdown",
   "metadata": {},
   "source": [
    "# Analiza zbioru"
   ]
  },
  {
   "cell_type": "markdown",
   "metadata": {
    "jp-MarkdownHeadingCollapsed": true
   },
   "source": [
    "## Import bibliotek"
   ]
  },
  {
   "cell_type": "code",
   "execution_count": 56,
   "metadata": {},
   "outputs": [],
   "source": [
    "import numpy as np\n",
    "import pandas as pd\n",
    "import seaborn as sns\n",
    "import matplotlib.pyplot as plt\n",
    "from sklearn import metrics\n",
    "from sklearn.model_selection import train_test_split\n",
    "from sklearn.metrics import confusion_matrix"
   ]
  },
  {
   "cell_type": "markdown",
   "metadata": {
    "jp-MarkdownHeadingCollapsed": true
   },
   "source": [
    "## Wczytanie zbioru"
   ]
  },
  {
   "cell_type": "code",
   "execution_count": 57,
   "metadata": {},
   "outputs": [
    {
     "data": {
      "text/html": [
       "<div>\n",
       "<style scoped>\n",
       "    .dataframe tbody tr th:only-of-type {\n",
       "        vertical-align: middle;\n",
       "    }\n",
       "\n",
       "    .dataframe tbody tr th {\n",
       "        vertical-align: top;\n",
       "    }\n",
       "\n",
       "    .dataframe thead th {\n",
       "        text-align: right;\n",
       "    }\n",
       "</style>\n",
       "<table border=\"1\" class=\"dataframe\">\n",
       "  <thead>\n",
       "    <tr style=\"text-align: right;\">\n",
       "      <th></th>\n",
       "      <th>brand_name</th>\n",
       "      <th>model</th>\n",
       "      <th>display</th>\n",
       "      <th>front_camera</th>\n",
       "      <th>rare_camera</th>\n",
       "      <th>processor</th>\n",
       "      <th>battery_capacity</th>\n",
       "      <th>ram</th>\n",
       "      <th>internal_storage</th>\n",
       "      <th>price</th>\n",
       "    </tr>\n",
       "  </thead>\n",
       "  <tbody>\n",
       "    <tr>\n",
       "      <th>0</th>\n",
       "      <td>SAMSUNG</td>\n",
       "      <td>Samsung S24 Ultra</td>\n",
       "      <td>6.8\" (120Hz)</td>\n",
       "      <td>40MP</td>\n",
       "      <td>108MP + 10MP + 10MP + 12MP</td>\n",
       "      <td>Exynos</td>\n",
       "      <td>5000 mAh</td>\n",
       "      <td>8.0</td>\n",
       "      <td>128</td>\n",
       "      <td>334999.0</td>\n",
       "    </tr>\n",
       "    <tr>\n",
       "      <th>1</th>\n",
       "      <td>SAMSUNG</td>\n",
       "      <td>Samsung S24 Plus</td>\n",
       "      <td>6.6\" (120Hz)</td>\n",
       "      <td>10MP</td>\n",
       "      <td>50MP + 10MP + 12MP</td>\n",
       "      <td>Exynos</td>\n",
       "      <td>4500 mAh</td>\n",
       "      <td>8.0</td>\n",
       "      <td>128</td>\n",
       "      <td>189999.0</td>\n",
       "    </tr>\n",
       "    <tr>\n",
       "      <th>2</th>\n",
       "      <td>SAMSUNG</td>\n",
       "      <td>Samsung Zero</td>\n",
       "      <td>6.41\" (120Hz)</td>\n",
       "      <td>32 MP</td>\n",
       "      <td>12 MP + 8 MP + 12 MP</td>\n",
       "      <td>Snapdragon 888 5G</td>\n",
       "      <td>4500 mAh</td>\n",
       "      <td>8.0</td>\n",
       "      <td>256</td>\n",
       "      <td>112999.0</td>\n",
       "    </tr>\n",
       "    <tr>\n",
       "      <th>3</th>\n",
       "      <td>SAMSUNG</td>\n",
       "      <td>Samsung S24</td>\n",
       "      <td>6.1\" (120Hz)</td>\n",
       "      <td>10MP</td>\n",
       "      <td>50MP + 10MP + 12MP</td>\n",
       "      <td>Exynos</td>\n",
       "      <td>3700 mAh</td>\n",
       "      <td>8.0</td>\n",
       "      <td>128</td>\n",
       "      <td>249999.0</td>\n",
       "    </tr>\n",
       "    <tr>\n",
       "      <th>4</th>\n",
       "      <td>SAMSUNG</td>\n",
       "      <td>Samsung A05s</td>\n",
       "      <td>6.5\" (90Hz)</td>\n",
       "      <td>5MP</td>\n",
       "      <td>50MP + 2MP + 2MP</td>\n",
       "      <td>Exynos</td>\n",
       "      <td>5000 mAh</td>\n",
       "      <td>4.0</td>\n",
       "      <td>64</td>\n",
       "      <td>24999.0</td>\n",
       "    </tr>\n",
       "    <tr>\n",
       "      <th>...</th>\n",
       "      <td>...</td>\n",
       "      <td>...</td>\n",
       "      <td>...</td>\n",
       "      <td>...</td>\n",
       "      <td>...</td>\n",
       "      <td>...</td>\n",
       "      <td>...</td>\n",
       "      <td>...</td>\n",
       "      <td>...</td>\n",
       "      <td>...</td>\n",
       "    </tr>\n",
       "    <tr>\n",
       "      <th>1251</th>\n",
       "      <td>OPPO</td>\n",
       "      <td>Oppo A37</td>\n",
       "      <td>5.0\"</td>\n",
       "      <td>5 MP</td>\n",
       "      <td>8 MP</td>\n",
       "      <td>Snapdragon 410</td>\n",
       "      <td>2630mAh</td>\n",
       "      <td>2.0</td>\n",
       "      <td>16</td>\n",
       "      <td>88415.0</td>\n",
       "    </tr>\n",
       "    <tr>\n",
       "      <th>1252</th>\n",
       "      <td>OPPO</td>\n",
       "      <td>Oppo F1</td>\n",
       "      <td>5.0\"</td>\n",
       "      <td>8 MP</td>\n",
       "      <td>13 MP</td>\n",
       "      <td>Snapdragon 616</td>\n",
       "      <td>-</td>\n",
       "      <td>3.0</td>\n",
       "      <td>16</td>\n",
       "      <td>35999.0</td>\n",
       "    </tr>\n",
       "    <tr>\n",
       "      <th>1253</th>\n",
       "      <td>OPPO</td>\n",
       "      <td>Oppo A31</td>\n",
       "      <td>4.5\"</td>\n",
       "      <td>5 MP</td>\n",
       "      <td>8 MP</td>\n",
       "      <td>Snapdragon 410</td>\n",
       "      <td>2000mAh</td>\n",
       "      <td>1.0</td>\n",
       "      <td>8</td>\n",
       "      <td>88415.0</td>\n",
       "    </tr>\n",
       "    <tr>\n",
       "      <th>1254</th>\n",
       "      <td>OPPO</td>\n",
       "      <td>Oppo Reno 4 SE</td>\n",
       "      <td>6.43\"</td>\n",
       "      <td>32 MP</td>\n",
       "      <td>48 MP + 8 MP + 2 MP</td>\n",
       "      <td>Dimensity 720</td>\n",
       "      <td>4300mAh</td>\n",
       "      <td>8.0</td>\n",
       "      <td>128</td>\n",
       "      <td>88415.0</td>\n",
       "    </tr>\n",
       "    <tr>\n",
       "      <th>1255</th>\n",
       "      <td>OPPO</td>\n",
       "      <td>Oppo Reno 4 SE 256GB</td>\n",
       "      <td>6.43\"</td>\n",
       "      <td>32 MP</td>\n",
       "      <td>48 MP + 8 MP + 2 MP</td>\n",
       "      <td>Dimensity 720</td>\n",
       "      <td>4300mAh</td>\n",
       "      <td>8.0</td>\n",
       "      <td>256</td>\n",
       "      <td>88415.0</td>\n",
       "    </tr>\n",
       "  </tbody>\n",
       "</table>\n",
       "<p>1256 rows × 10 columns</p>\n",
       "</div>"
      ],
      "text/plain": [
       "     brand_name                 model        display front_camera  \\\n",
       "0       SAMSUNG     Samsung S24 Ultra   6.8\" (120Hz)         40MP   \n",
       "1       SAMSUNG      Samsung S24 Plus   6.6\" (120Hz)         10MP   \n",
       "2       SAMSUNG          Samsung Zero  6.41\" (120Hz)        32 MP   \n",
       "3       SAMSUNG           Samsung S24   6.1\" (120Hz)         10MP   \n",
       "4       SAMSUNG          Samsung A05s    6.5\" (90Hz)          5MP   \n",
       "...         ...                   ...            ...          ...   \n",
       "1251       OPPO              Oppo A37           5.0\"         5 MP   \n",
       "1252       OPPO               Oppo F1           5.0\"         8 MP   \n",
       "1253       OPPO              Oppo A31           4.5\"         5 MP   \n",
       "1254       OPPO        Oppo Reno 4 SE          6.43\"        32 MP   \n",
       "1255       OPPO  Oppo Reno 4 SE 256GB          6.43\"        32 MP   \n",
       "\n",
       "                     rare_camera          processor battery_capacity  ram  \\\n",
       "0     108MP + 10MP + 10MP + 12MP            Exynos          5000 mAh  8.0   \n",
       "1             50MP + 10MP + 12MP            Exynos          4500 mAh  8.0   \n",
       "2           12 MP + 8 MP + 12 MP  Snapdragon 888 5G         4500 mAh  8.0   \n",
       "3             50MP + 10MP + 12MP            Exynos          3700 mAh  8.0   \n",
       "4               50MP + 2MP + 2MP            Exynos          5000 mAh  4.0   \n",
       "...                          ...                ...              ...  ...   \n",
       "1251                        8 MP     Snapdragon 410          2630mAh  2.0   \n",
       "1252                       13 MP     Snapdragon 616                -  3.0   \n",
       "1253                        8 MP     Snapdragon 410          2000mAh  1.0   \n",
       "1254         48 MP + 8 MP + 2 MP      Dimensity 720          4300mAh  8.0   \n",
       "1255         48 MP + 8 MP + 2 MP      Dimensity 720          4300mAh  8.0   \n",
       "\n",
       "      internal_storage     price  \n",
       "0                  128  334999.0  \n",
       "1                  128  189999.0  \n",
       "2                  256  112999.0  \n",
       "3                  128  249999.0  \n",
       "4                   64   24999.0  \n",
       "...                ...       ...  \n",
       "1251                16   88415.0  \n",
       "1252                16   35999.0  \n",
       "1253                 8   88415.0  \n",
       "1254               128   88415.0  \n",
       "1255               256   88415.0  \n",
       "\n",
       "[1256 rows x 10 columns]"
      ]
     },
     "execution_count": 57,
     "metadata": {},
     "output_type": "execute_result"
    }
   ],
   "source": [
    "df = pd.read_csv('smartphone_specifications_and_prices.csv')\n",
    "\n",
    "df"
   ]
  },
  {
   "cell_type": "markdown",
   "metadata": {
    "jp-MarkdownHeadingCollapsed": true
   },
   "source": [
    "## Podstawowe statystyki"
   ]
  },
  {
   "cell_type": "code",
   "execution_count": 58,
   "metadata": {},
   "outputs": [
    {
     "name": "stdout",
     "output_type": "stream",
     "text": [
      "Liczba obiektów: 1256\n",
      "Liczba marek: 5\n",
      "Obiektów marki SAMSUNG :  404\n",
      "Obiektów marki XIAOMI :  393\n",
      "Obiektów marki APPLE :  154\n",
      "Obiektów marki ONEPLUS :  86\n",
      "Obiektów marki OPPO :  219\n",
      "Liczba atrybutów: 10\n",
      "Ilość braków: 9\n"
     ]
    }
   ],
   "source": [
    "# liczba obiektów\n",
    "print(\"Liczba obiektów:\", df.shape[0])\n",
    "# liczba marek smartfonów\n",
    "marki = df['brand_name'].unique()\n",
    "print(\"Liczba marek:\", marki.shape[0])\n",
    "# liczba obiektów poszczególnych marek\n",
    "for i in list(marki):\n",
    "    print(\"Obiektów marki\", i, \": \", len(df[df['brand_name'] == i]))\n",
    "# liczba atrybutów\n",
    "print(\"Liczba atrybutów:\", df.shape[1])\n",
    "# liczba braków\n",
    "print(\"Ilość braków:\", df.isnull().sum().sum())"
   ]
  },
  {
   "cell_type": "code",
   "execution_count": 59,
   "metadata": {},
   "outputs": [
    {
     "name": "stdout",
     "output_type": "stream",
     "text": [
      "brand_name          0\n",
      "model               0\n",
      "display             0\n",
      "front_camera        0\n",
      "rare_camera         0\n",
      "processor           9\n",
      "battery_capacity    0\n",
      "ram                 0\n",
      "internal_storage    0\n",
      "price               0\n",
      "dtype: int64\n"
     ]
    }
   ],
   "source": [
    "# sprawdzenie, w której kolumnie istnieją te braki\n",
    "print(df.isnull().sum())"
   ]
  },
  {
   "cell_type": "markdown",
   "metadata": {},
   "source": [
    "Ze względu na wiedzę a-priori związaną z tematem kamer, można stwierdzić, że sama informacja o ilości Mega Pixeli (MP) nie stanowi wyznacznika jakości kamer, dlatego nie będę ich uwzględniał"
   ]
  },
  {
   "cell_type": "code",
   "execution_count": 60,
   "metadata": {},
   "outputs": [],
   "source": [
    "df = df.drop(columns = ['front_camera', 'rare_camera'])"
   ]
  },
  {
   "cell_type": "code",
   "execution_count": 61,
   "metadata": {},
   "outputs": [
    {
     "name": "stdout",
     "output_type": "stream",
     "text": [
      "     brand_name                 model        display          processor  \\\n",
      "0       SAMSUNG     Samsung S24 Ultra   6.8\" (120Hz)            Exynos    \n",
      "1       SAMSUNG      Samsung S24 Plus   6.6\" (120Hz)            Exynos    \n",
      "2       SAMSUNG          Samsung Zero  6.41\" (120Hz)  Snapdragon 888 5G   \n",
      "3       SAMSUNG           Samsung S24   6.1\" (120Hz)            Exynos    \n",
      "4       SAMSUNG          Samsung A05s    6.5\" (90Hz)            Exynos    \n",
      "...         ...                   ...            ...                ...   \n",
      "1250       OPPO              Oppo A57           5.2\"     Snapdragon 435   \n",
      "1251       OPPO              Oppo A37           5.0\"     Snapdragon 410   \n",
      "1253       OPPO              Oppo A31           4.5\"     Snapdragon 410   \n",
      "1254       OPPO        Oppo Reno 4 SE          6.43\"      Dimensity 720   \n",
      "1255       OPPO  Oppo Reno 4 SE 256GB          6.43\"      Dimensity 720   \n",
      "\n",
      "      battery_capacity  ram  internal_storage     price  \n",
      "0                 5000  8.0               128  334999.0  \n",
      "1                 4500  8.0               128  189999.0  \n",
      "2                 4500  8.0               256  112999.0  \n",
      "3                 3700  8.0               128  249999.0  \n",
      "4                 5000  4.0                64   24999.0  \n",
      "...                ...  ...               ...       ...  \n",
      "1250              2900  3.0                32   36999.0  \n",
      "1251              2630  2.0                16   88415.0  \n",
      "1253              2000  1.0                 8   88415.0  \n",
      "1254              4300  8.0               128   88415.0  \n",
      "1255              4300  8.0               256   88415.0  \n",
      "\n",
      "[1225 rows x 8 columns]\n"
     ]
    }
   ],
   "source": [
    "df = df.drop(df[(df['battery_capacity'].str.find('mAh') == -1) | (df['battery_capacity'].str.find('able') != -1)].index)\n",
    "\n",
    "# obróbka wartości pojemności baterii\n",
    "df['battery_capacity'] = pd.to_numeric(df['battery_capacity'].str[-8:-3])\n",
    "\n",
    "print(df)"
   ]
  },
  {
   "cell_type": "code",
   "execution_count": 62,
   "metadata": {},
   "outputs": [
    {
     "data": {
      "text/html": [
       "<div>\n",
       "<style scoped>\n",
       "    .dataframe tbody tr th:only-of-type {\n",
       "        vertical-align: middle;\n",
       "    }\n",
       "\n",
       "    .dataframe tbody tr th {\n",
       "        vertical-align: top;\n",
       "    }\n",
       "\n",
       "    .dataframe thead th {\n",
       "        text-align: right;\n",
       "    }\n",
       "</style>\n",
       "<table border=\"1\" class=\"dataframe\">\n",
       "  <thead>\n",
       "    <tr style=\"text-align: right;\">\n",
       "      <th></th>\n",
       "      <th>brand_name</th>\n",
       "      <th>model</th>\n",
       "      <th>processor</th>\n",
       "      <th>battery_capacity</th>\n",
       "      <th>ram</th>\n",
       "      <th>internal_storage</th>\n",
       "      <th>price</th>\n",
       "      <th>screen_size</th>\n",
       "      <th>refresh_rate</th>\n",
       "    </tr>\n",
       "  </thead>\n",
       "  <tbody>\n",
       "    <tr>\n",
       "      <th>0</th>\n",
       "      <td>SAMSUNG</td>\n",
       "      <td>Samsung S24 Ultra</td>\n",
       "      <td>Exynos</td>\n",
       "      <td>5000</td>\n",
       "      <td>8.0</td>\n",
       "      <td>128</td>\n",
       "      <td>334999.0</td>\n",
       "      <td>6.8</td>\n",
       "      <td>(120Hz)</td>\n",
       "    </tr>\n",
       "    <tr>\n",
       "      <th>1</th>\n",
       "      <td>SAMSUNG</td>\n",
       "      <td>Samsung S24 Plus</td>\n",
       "      <td>Exynos</td>\n",
       "      <td>4500</td>\n",
       "      <td>8.0</td>\n",
       "      <td>128</td>\n",
       "      <td>189999.0</td>\n",
       "      <td>6.6</td>\n",
       "      <td>(120Hz)</td>\n",
       "    </tr>\n",
       "    <tr>\n",
       "      <th>2</th>\n",
       "      <td>SAMSUNG</td>\n",
       "      <td>Samsung Zero</td>\n",
       "      <td>Snapdragon 888 5G</td>\n",
       "      <td>4500</td>\n",
       "      <td>8.0</td>\n",
       "      <td>256</td>\n",
       "      <td>112999.0</td>\n",
       "      <td>6.41</td>\n",
       "      <td>(120Hz)</td>\n",
       "    </tr>\n",
       "    <tr>\n",
       "      <th>3</th>\n",
       "      <td>SAMSUNG</td>\n",
       "      <td>Samsung S24</td>\n",
       "      <td>Exynos</td>\n",
       "      <td>3700</td>\n",
       "      <td>8.0</td>\n",
       "      <td>128</td>\n",
       "      <td>249999.0</td>\n",
       "      <td>6.1</td>\n",
       "      <td>(120Hz)</td>\n",
       "    </tr>\n",
       "    <tr>\n",
       "      <th>4</th>\n",
       "      <td>SAMSUNG</td>\n",
       "      <td>Samsung A05s</td>\n",
       "      <td>Exynos</td>\n",
       "      <td>5000</td>\n",
       "      <td>4.0</td>\n",
       "      <td>64</td>\n",
       "      <td>24999.0</td>\n",
       "      <td>6.5</td>\n",
       "      <td>(90Hz)</td>\n",
       "    </tr>\n",
       "    <tr>\n",
       "      <th>...</th>\n",
       "      <td>...</td>\n",
       "      <td>...</td>\n",
       "      <td>...</td>\n",
       "      <td>...</td>\n",
       "      <td>...</td>\n",
       "      <td>...</td>\n",
       "      <td>...</td>\n",
       "      <td>...</td>\n",
       "      <td>...</td>\n",
       "    </tr>\n",
       "    <tr>\n",
       "      <th>1250</th>\n",
       "      <td>OPPO</td>\n",
       "      <td>Oppo A57</td>\n",
       "      <td>Snapdragon 435</td>\n",
       "      <td>2900</td>\n",
       "      <td>3.0</td>\n",
       "      <td>32</td>\n",
       "      <td>36999.0</td>\n",
       "      <td>5.2</td>\n",
       "      <td></td>\n",
       "    </tr>\n",
       "    <tr>\n",
       "      <th>1251</th>\n",
       "      <td>OPPO</td>\n",
       "      <td>Oppo A37</td>\n",
       "      <td>Snapdragon 410</td>\n",
       "      <td>2630</td>\n",
       "      <td>2.0</td>\n",
       "      <td>16</td>\n",
       "      <td>88415.0</td>\n",
       "      <td>5.0</td>\n",
       "      <td></td>\n",
       "    </tr>\n",
       "    <tr>\n",
       "      <th>1253</th>\n",
       "      <td>OPPO</td>\n",
       "      <td>Oppo A31</td>\n",
       "      <td>Snapdragon 410</td>\n",
       "      <td>2000</td>\n",
       "      <td>1.0</td>\n",
       "      <td>8</td>\n",
       "      <td>88415.0</td>\n",
       "      <td>4.5</td>\n",
       "      <td></td>\n",
       "    </tr>\n",
       "    <tr>\n",
       "      <th>1254</th>\n",
       "      <td>OPPO</td>\n",
       "      <td>Oppo Reno 4 SE</td>\n",
       "      <td>Dimensity 720</td>\n",
       "      <td>4300</td>\n",
       "      <td>8.0</td>\n",
       "      <td>128</td>\n",
       "      <td>88415.0</td>\n",
       "      <td>6.43</td>\n",
       "      <td></td>\n",
       "    </tr>\n",
       "    <tr>\n",
       "      <th>1255</th>\n",
       "      <td>OPPO</td>\n",
       "      <td>Oppo Reno 4 SE 256GB</td>\n",
       "      <td>Dimensity 720</td>\n",
       "      <td>4300</td>\n",
       "      <td>8.0</td>\n",
       "      <td>256</td>\n",
       "      <td>88415.0</td>\n",
       "      <td>6.43</td>\n",
       "      <td></td>\n",
       "    </tr>\n",
       "  </tbody>\n",
       "</table>\n",
       "<p>1225 rows × 9 columns</p>\n",
       "</div>"
      ],
      "text/plain": [
       "     brand_name                 model          processor  battery_capacity  \\\n",
       "0       SAMSUNG     Samsung S24 Ultra            Exynos               5000   \n",
       "1       SAMSUNG      Samsung S24 Plus            Exynos               4500   \n",
       "2       SAMSUNG          Samsung Zero  Snapdragon 888 5G              4500   \n",
       "3       SAMSUNG           Samsung S24            Exynos               3700   \n",
       "4       SAMSUNG          Samsung A05s            Exynos               5000   \n",
       "...         ...                   ...                ...               ...   \n",
       "1250       OPPO              Oppo A57     Snapdragon 435              2900   \n",
       "1251       OPPO              Oppo A37     Snapdragon 410              2630   \n",
       "1253       OPPO              Oppo A31     Snapdragon 410              2000   \n",
       "1254       OPPO        Oppo Reno 4 SE      Dimensity 720              4300   \n",
       "1255       OPPO  Oppo Reno 4 SE 256GB      Dimensity 720              4300   \n",
       "\n",
       "      ram  internal_storage     price screen_size refresh_rate  \n",
       "0     8.0               128  334999.0         6.8      (120Hz)  \n",
       "1     8.0               128  189999.0         6.6      (120Hz)  \n",
       "2     8.0               256  112999.0        6.41      (120Hz)  \n",
       "3     8.0               128  249999.0         6.1      (120Hz)  \n",
       "4     4.0                64   24999.0         6.5       (90Hz)  \n",
       "...   ...               ...       ...         ...          ...  \n",
       "1250  3.0                32   36999.0         5.2               \n",
       "1251  2.0                16   88415.0         5.0               \n",
       "1253  1.0                 8   88415.0         4.5               \n",
       "1254  8.0               128   88415.0        6.43               \n",
       "1255  8.0               256   88415.0        6.43               \n",
       "\n",
       "[1225 rows x 9 columns]"
      ]
     },
     "execution_count": 62,
     "metadata": {},
     "output_type": "execute_result"
    }
   ],
   "source": [
    "df[['screen_size', 'refresh_rate']] = pd.DataFrame(df['display'].str.split('\"').tolist(), index = df.index)\n",
    "df = df.drop(columns = 'display')\n",
    "\n",
    "df"
   ]
  },
  {
   "cell_type": "code",
   "execution_count": 63,
   "metadata": {},
   "outputs": [
    {
     "name": "stdout",
     "output_type": "stream",
     "text": [
      "     brand_name                 model          processor  battery_capacity  \\\n",
      "0       SAMSUNG     Samsung S24 Ultra            Exynos               5000   \n",
      "1       SAMSUNG      Samsung S24 Plus            Exynos               4500   \n",
      "2       SAMSUNG          Samsung Zero  Snapdragon 888 5G              4500   \n",
      "3       SAMSUNG           Samsung S24            Exynos               3700   \n",
      "4       SAMSUNG          Samsung A05s            Exynos               5000   \n",
      "...         ...                   ...                ...               ...   \n",
      "1250       OPPO              Oppo A57     Snapdragon 435              2900   \n",
      "1251       OPPO              Oppo A37     Snapdragon 410              2630   \n",
      "1253       OPPO              Oppo A31     Snapdragon 410              2000   \n",
      "1254       OPPO        Oppo Reno 4 SE      Dimensity 720              4300   \n",
      "1255       OPPO  Oppo Reno 4 SE 256GB      Dimensity 720              4300   \n",
      "\n",
      "      ram  internal_storage     price screen_size refresh_rate  \n",
      "0     8.0               128  334999.0         6.8          120  \n",
      "1     8.0               128  189999.0         6.6          120  \n",
      "2     8.0               256  112999.0        6.41          120  \n",
      "3     8.0               128  249999.0         6.1          120  \n",
      "4     4.0                64   24999.0         6.5           90  \n",
      "...   ...               ...       ...         ...          ...  \n",
      "1250  3.0                32   36999.0         5.2           60  \n",
      "1251  2.0                16   88415.0         5.0           60  \n",
      "1253  1.0                 8   88415.0         4.5           60  \n",
      "1254  8.0               128   88415.0        6.43           60  \n",
      "1255  8.0               256   88415.0        6.43           60  \n",
      "\n",
      "[1225 rows x 9 columns]\n"
     ]
    }
   ],
   "source": [
    "df['refresh_rate'] = df['refresh_rate'].apply(lambda x: '60' if x == ''  else x[2:-3])\n",
    "\n",
    "print(df)"
   ]
  },
  {
   "cell_type": "code",
   "execution_count": 64,
   "metadata": {},
   "outputs": [
    {
     "name": "stdout",
     "output_type": "stream",
     "text": [
      "Liczba obiektów: 1225\n",
      "Liczba marek: 5\n",
      "Obiektów marki SAMSUNG :  395\n",
      "Obiektów marki XIAOMI :  393\n",
      "Obiektów marki APPLE :  137\n",
      "Obiektów marki ONEPLUS :  85\n",
      "Obiektów marki OPPO :  215\n",
      "Liczba atrybutów: 9\n",
      "Ilość braków: 9\n"
     ]
    }
   ],
   "source": [
    "# liczba obiektów\n",
    "print(\"Liczba obiektów:\", df.shape[0])\n",
    "# liczba marek smartfonów\n",
    "marki = df['brand_name'].unique()\n",
    "print(\"Liczba marek:\", marki.shape[0])\n",
    "# liczba obiektów poszczególnych marek\n",
    "for i in list(marki):\n",
    "    print(\"Obiektów marki\", i, \": \", len(df[df['brand_name'] == i]))\n",
    "# liczba atrybutów\n",
    "print(\"Liczba atrybutów:\", df.shape[1])\n",
    "# liczba braków\n",
    "print(\"Ilość braków:\", df.isnull().sum().sum())"
   ]
  },
  {
   "cell_type": "code",
   "execution_count": 65,
   "metadata": {},
   "outputs": [
    {
     "data": {
      "image/png": "[encoded data removed]",
      "text/plain": [
       "<Figure size 600x400 with 1 Axes>"
      ]
     },
     "metadata": {},
     "output_type": "display_data"
    }
   ],
   "source": [
    "# wykres\n",
    "plt.figure(figsize=(6, 4))\n",
    "df['brand_name'].value_counts().sort_index().plot(kind='bar', rot = 0)\n",
    "plt.title('Ilość danych obiektów względem marek', fontsize = 12)\n",
    "plt.xlabel('Marka', fontsize=10)\n",
    "plt.ylabel('Ilość', fontsize=10)\n",
    "plt.show()"
   ]
  },
  {
   "cell_type": "markdown",
   "metadata": {},
   "source": [
    "Zbiór posiada 5 producentów smartfonów oraz nie posiada braków. Większość obiektów (smartfonów) jest marki SAMSUNG lub XIAOMI. Jednocześnie każdy smartfon posiada 6 atrybutów ilościowych: pamięć wewnętrzną, pamięć RAM, wielkość przekątnej ekranu, odświeżanie ekranu, pojemność baterii i cenę\n",
    "\n",
    "*odświeżanie ekranu może być potraktowane jako atrybut kategoryczny porządkowy, ponieważ wartości odświeżania ekranu zwykle przyjmują wartości 60, 90, 120 Hz"
   ]
  },
  {
   "cell_type": "code",
   "execution_count": 68,
   "metadata": {},
   "outputs": [
    {
     "data": {
      "image/png": "[encoded data removed]",
      "text/plain": [
       "<Figure size 600x400 with 1 Axes>"
      ]
     },
     "metadata": {},
     "output_type": "display_data"
    },
    {
     "name": "stdout",
     "output_type": "stream",
     "text": [
      "   brand_name              model    processor  battery_capacity  ram  \\\n",
      "7     SAMSUNG        Samsung M14      Exynos               5000  4.0   \n",
      "56    SAMSUNG        Samsung M13  Exynos 850               5000  4.0   \n",
      "57    SAMSUNG  Samsung M13 128GB  Exynos 850               5000  4.0   \n",
      "\n",
      "    internal_storage    price screen_size      refresh_rate  \n",
      "7                 64  34999.0         6.6  90 (unconfirmed)  \n",
      "56                64  37999.0         6.6  90 (unconfirmed)  \n",
      "57               128  41999.0         6.6  90 (unconfirmed)  \n"
     ]
    }
   ],
   "source": [
    "plt.figure(figsize=(6, 4))\n",
    "df['refresh_rate'].value_counts().sort_index().plot(kind='bar', rot = 0)\n",
    "plt.title('Ilość danych obiektów ze względu na częstotliwość odświeżania ekranu', fontsize = 12)\n",
    "plt.xlabel('Częstotliwość', fontsize=10)\n",
    "plt.ylabel('Ilość', fontsize=10)\n",
    "plt.show()"
   ]
  },
  {
   "cell_type": "code",
   "execution_count": 69,
   "metadata": {},
   "outputs": [],
   "source": [
    "df['refresh_rate'] = df['refresh_rate'].apply(lambda x: x[:2] if '(' in x  else x)"
   ]
  },
  {
   "cell_type": "code",
   "execution_count": 73,
   "metadata": {},
   "outputs": [
    {
     "data": {
      "image/png": "[encoded data removed]",
      "text/plain": [
       "<Figure size 600x400 with 1 Axes>"
      ]
     },
     "metadata": {},
     "output_type": "display_data"
    }
   ],
   "source": [
    "plt.figure(figsize=(6, 4))\n",
    "df['refresh_rate'].value_counts().sort_values(ascending=0).plot(kind='bar', rot = 0)\n",
    "plt.title('Ilość danych obiektów ze względu na częstotliwość odświeżania ekranu', fontsize = 12)\n",
    "plt.xlabel('Częstotliwość', fontsize=10)\n",
    "plt.ylabel('Ilość', fontsize=10)\n",
    "plt.show()"
   ]
  }
 ],
 "metadata": {
  "kernelspec": {
   "display_name": "base",
   "language": "python",
   "name": "python3"
  },
  "language_info": {
   "codemirror_mode": {
    "name": "ipython",
    "version": 3
   },
   "file_extension": ".py",
   "mimetype": "text/x-python",
   "name": "python",
   "nbconvert_exporter": "python",
   "pygments_lexer": "ipython3",
   "version": "3.11.5"
  }
 },
 "nbformat": 4,
 "nbformat_minor": 4
}
